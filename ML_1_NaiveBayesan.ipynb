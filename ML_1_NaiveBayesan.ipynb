{
  "nbformat": 4,
  "nbformat_minor": 0,
  "metadata": {
    "colab": {
      "provenance": [],
      "mount_file_id": "1y9oC3vgJqb17OZ-0vciTz119Y7qSdH30",
      "authorship_tag": "ABX9TyPdhfE8qOrSmfr1hGcLitRL",
      "include_colab_link": true
    },
    "kernelspec": {
      "name": "python3",
      "display_name": "Python 3"
    },
    "language_info": {
      "name": "python"
    }
  },
  "cells": [
    {
      "cell_type": "markdown",
      "metadata": {
        "id": "view-in-github",
        "colab_type": "text"
      },
      "source": [
        "<a href=\"https://colab.research.google.com/github/NoobDip/Naive-Bayesian-Using-Golf-Data/blob/main/ML_1_NaiveBayesan.ipynb\" target=\"_parent\"><img src=\"https://colab.research.google.com/assets/colab-badge.svg\" alt=\"Open In Colab\"/></a>"
      ]
    },
    {
      "cell_type": "code",
      "source": [
        "def bayesian_calculation(data,target):\n",
        "    '''\n",
        "    Parameters:\n",
        "    -data (pandas dataframe): A dataframe containing all the data.\n",
        "    -target (string): Name of target column. Target should be boolean.\n",
        "    Returns:\n",
        "    dictionary: A dictionary with the first two keys as True and False, containing the probabilities of Output to be True and False respectively. Next keys are columns. Value of each key contains a list of three dictionaries..\n",
        "        dict[key][0] is a dictionary with probabilities of all possibles values of the key.\n",
        "        dict[key][1] is a dictionary with probabilities of all possible values of the key when the target is true.\n",
        "        dict[key][2] is a dictionary with probabilities of all possible values of the key when the target is false.\n",
        "    '''\n",
        "    cat_dict={}\n",
        "    p_true = data[target].value_counts()[1]/data[target].shape[0]\n",
        "    p_false = data[target].value_counts()[0]/data[target].shape[0]\n",
        "    cat_dict[\"True\"]=p_true\n",
        "    cat_dict[\"False\"]=p_false\n",
        "    for column in data.keys():\n",
        "        if column!=target:\n",
        "            temp_dict=dict()\n",
        "            temp_dict2=dict()\n",
        "            temp_dict3=dict()\n",
        "            for category in data[column].unique():\n",
        "                p_cat = data[column].value_counts()[category]/data.shape[0]\n",
        "                temp_dict[category]=p_cat\n",
        "                p_true_cat = data[data[target]==1][column].value_counts()[category]/data[data[target]==1].shape[0]\n",
        "                temp_dict2[category]=p_true_cat\n",
        "                p_false_cat = data[data[target]==0][column].value_counts()[category]/data[data[target]==0].shape[0]\n",
        "                temp_dict3[category]=p_false_cat\n",
        "            cat_dict[column]=[temp_dict,temp_dict2,temp_dict3]\n",
        "    return cat_dict"
      ],
      "metadata": {
        "id": "BXTXM5Z7Rdr6"
      },
      "execution_count": null,
      "outputs": []
    },
    {
      "cell_type": "code",
      "source": [
        "def naive_bayesian_classifier(inp, values):\n",
        "    '''\n",
        "    Parameters:\n",
        "    -inp (list): The input for which the target is to be calculated.\n",
        "    -values (dictionary): Dictionary containing probabilities. Use bayesian_calculation() to get this.\n",
        "    Returns:\n",
        "    bool: 1 if target is true, 0 if target is false.\n",
        "    '''\n",
        "    prob_true = prob_false = values['True']\n",
        "    for value,i in zip(list(values.keys())[2:],range(len(values))):\n",
        "        p_predictor = values[value][0][inp[i]]\n",
        "        p_pred_true = values[value][1][inp[i]]\n",
        "        p_value_true = p_pred_true * values['True'] / p_predictor\n",
        "        p_value_false = 1-p_value_true\n",
        "        prob_true *= p_value_true\n",
        "        prob_false *= p_value_false\n",
        "    prob_out = prob_true/(prob_true+prob_false)\n",
        "    return bool(1) if prob_out>=0.5 else bool(0)"
      ],
      "metadata": {
        "id": "WlPFJf8lrMgN"
      },
      "execution_count": null,
      "outputs": []
    },
    {
      "cell_type": "code",
      "source": [
        "def test(test_data, values):\n",
        "    '''\n",
        "    Parameters:\n",
        "    -test_data (pandas dataframe): Dataframe containing testing data.\n",
        "    -values (dictionary): Dictionary containing probabilities. Use bayesian_calculation() to get this.\n",
        "    Returns:\n",
        "    float: Accuracy of the model.\n",
        "    '''\n",
        "    correct=incorrect=0\n",
        "    for row in test_data.iterrows():\n",
        "        if naive_bayesian_classifier(list(row[1][:-1]), values) == row[1][-1]:\n",
        "            correct+=1\n",
        "        else:\n",
        "            incorrect+=1\n",
        "    accuracy = correct/(correct+incorrect)\n",
        "    return accuracy"
      ],
      "metadata": {
        "id": "LD-Z4vPr8szX"
      },
      "execution_count": null,
      "outputs": []
    }
  ]
}