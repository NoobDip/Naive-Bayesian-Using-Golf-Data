{
  "nbformat": 4,
  "nbformat_minor": 0,
  "metadata": {
    "colab": {
      "provenance": [],
      "authorship_tag": "ABX9TyMkENIBw2zCM/ay16uq40e3",
      "include_colab_link": true
    },
    "kernelspec": {
      "name": "python3",
      "display_name": "Python 3"
    },
    "language_info": {
      "name": "python"
    }
  },
  "cells": [
    {
      "cell_type": "markdown",
      "metadata": {
        "id": "view-in-github",
        "colab_type": "text"
      },
      "source": [
        "<a href=\"https://colab.research.google.com/github/NoobDip/Naive-Bayesian-Using-Golf-Data/blob/main/Golf_Dataset_Correction.ipynb\" target=\"_parent\"><img src=\"https://colab.research.google.com/assets/colab-badge.svg\" alt=\"Open In Colab\"/></a>"
      ]
    },
    {
      "cell_type": "code",
      "source": [
        "import pandas"
      ],
      "metadata": {
        "id": "9An40fyyfo4B"
      },
      "execution_count": null,
      "outputs": []
    },
    {
      "cell_type": "code",
      "source": [
        "from google.colab import drive\n",
        "drive.mount('/content/drive')"
      ],
      "metadata": {
        "colab": {
          "base_uri": "https://localhost:8080/"
        },
        "id": "IHaSDj3uSX6_",
        "outputId": "d20de2ca-af7d-485d-eacb-078fa58d477a"
      },
      "execution_count": null,
      "outputs": [
        {
          "output_type": "stream",
          "name": "stdout",
          "text": [
            "Mounted at /content/drive\n"
          ]
        }
      ]
    },
    {
      "cell_type": "code",
      "source": [
        "full_data = pandas.read_csv('/content/drive/MyDrive/ML_Lab/golf_dataset_wide_format.csv')\n",
        "full_data.columns"
      ],
      "metadata": {
        "colab": {
          "base_uri": "https://localhost:8080/"
        },
        "id": "EjZnSKJdpNHG",
        "outputId": "81d2a8dd-d358-4a93-a968-21652323da07"
      },
      "execution_count": null,
      "outputs": [
        {
          "output_type": "execute_result",
          "data": {
            "text/plain": [
              "Index(['Date', 'Weekday', 'Month', 'Season', 'Holiday', 'Temperature',\n",
              "       'Humidity', 'Windy', 'Outlook', 'Crowdedness', 'Play_A',\n",
              "       'PlayTimeHour_A', 'Play_B', 'PlayTimeHour_B', 'Play_C',\n",
              "       'PlayTimeHour_C', 'Play_D', 'PlayTimeHour_D', 'Play_E',\n",
              "       'PlayTimeHour_E', 'Play_F', 'PlayTimeHour_F', 'Play_G',\n",
              "       'PlayTimeHour_G'],\n",
              "      dtype='object')"
            ]
          },
          "metadata": {},
          "execution_count": 3
        }
      ]
    },
    {
      "cell_type": "code",
      "source": [
        "data = full_data.drop(columns=['Date', 'Weekday', 'Month', 'Season', 'Holiday', 'Crowdedness', 'PlayTimeHour_A', 'PlayTimeHour_B', 'PlayTimeHour_C', 'PlayTimeHour_D', 'PlayTimeHour_E', 'PlayTimeHour_F', 'PlayTimeHour_G'])\n",
        "data.columns"
      ],
      "metadata": {
        "colab": {
          "base_uri": "https://localhost:8080/"
        },
        "id": "VFtCBPjJpfe2",
        "outputId": "4ce3a4da-a0a7-4204-c915-c34be8bd9f51"
      },
      "execution_count": null,
      "outputs": [
        {
          "output_type": "execute_result",
          "data": {
            "text/plain": [
              "Index(['Temperature', 'Humidity', 'Windy', 'Outlook', 'Play_A', 'Play_B',\n",
              "       'Play_C', 'Play_D', 'Play_E', 'Play_F', 'Play_G'],\n",
              "      dtype='object')"
            ]
          },
          "metadata": {},
          "execution_count": 4
        }
      ]
    },
    {
      "cell_type": "code",
      "source": [
        "data.info()"
      ],
      "metadata": {
        "colab": {
          "base_uri": "https://localhost:8080/"
        },
        "id": "i4pqHaGhqfZD",
        "outputId": "300a881b-d410-42f6-e72e-10323dc33ff6"
      },
      "execution_count": null,
      "outputs": [
        {
          "output_type": "stream",
          "name": "stdout",
          "text": [
            "<class 'pandas.core.frame.DataFrame'>\n",
            "RangeIndex: 1095 entries, 0 to 1094\n",
            "Data columns (total 11 columns):\n",
            " #   Column       Non-Null Count  Dtype  \n",
            "---  ------       --------------  -----  \n",
            " 0   Temperature  1095 non-null   float64\n",
            " 1   Humidity     1095 non-null   float64\n",
            " 2   Windy        1095 non-null   int64  \n",
            " 3   Outlook      1095 non-null   object \n",
            " 4   Play_A       1095 non-null   int64  \n",
            " 5   Play_B       1095 non-null   int64  \n",
            " 6   Play_C       1095 non-null   int64  \n",
            " 7   Play_D       1095 non-null   int64  \n",
            " 8   Play_E       1095 non-null   int64  \n",
            " 9   Play_F       1095 non-null   int64  \n",
            " 10  Play_G       1095 non-null   int64  \n",
            "dtypes: float64(2), int64(8), object(1)\n",
            "memory usage: 94.2+ KB\n"
          ]
        }
      ]
    },
    {
      "cell_type": "code",
      "source": [
        "data.describe()"
      ],
      "metadata": {
        "colab": {
          "base_uri": "https://localhost:8080/",
          "height": 300
        },
        "id": "K98lbhi3rnna",
        "outputId": "7a0341e3-9496-416e-9813-9022d7484aea"
      },
      "execution_count": null,
      "outputs": [
        {
          "output_type": "execute_result",
          "data": {
            "text/plain": [
              "       Temperature     Humidity        Windy       Play_A       Play_B  \\\n",
              "count  1095.000000  1095.000000  1095.000000  1095.000000  1095.000000   \n",
              "mean     13.435525    61.525114     0.507763     0.209132     0.223744   \n",
              "std       8.043321    14.435162     0.500168     0.406875     0.416943   \n",
              "min      -2.000000    18.000000     0.000000     0.000000     0.000000   \n",
              "25%       6.000000    52.000000     0.000000     0.000000     0.000000   \n",
              "50%      13.800000    61.000000     1.000000     0.000000     0.000000   \n",
              "75%      20.500000    72.000000     1.000000     0.000000     0.000000   \n",
              "max      29.500000    99.000000     1.000000     1.000000     1.000000   \n",
              "\n",
              "            Play_C       Play_D       Play_E       Play_F       Play_G  \n",
              "count  1095.000000  1095.000000  1095.000000  1095.000000  1095.000000  \n",
              "mean      0.233790     0.189954     0.257534     0.060274     0.103196  \n",
              "std       0.423434     0.392444     0.437476     0.238102     0.304354  \n",
              "min       0.000000     0.000000     0.000000     0.000000     0.000000  \n",
              "25%       0.000000     0.000000     0.000000     0.000000     0.000000  \n",
              "50%       0.000000     0.000000     0.000000     0.000000     0.000000  \n",
              "75%       0.000000     0.000000     1.000000     0.000000     0.000000  \n",
              "max       1.000000     1.000000     1.000000     1.000000     1.000000  "
            ],
            "text/html": [
              "\n",
              "  <div id=\"df-8a7d9205-b59a-4d68-9cad-48ec900d7b88\" class=\"colab-df-container\">\n",
              "    <div>\n",
              "<style scoped>\n",
              "    .dataframe tbody tr th:only-of-type {\n",
              "        vertical-align: middle;\n",
              "    }\n",
              "\n",
              "    .dataframe tbody tr th {\n",
              "        vertical-align: top;\n",
              "    }\n",
              "\n",
              "    .dataframe thead th {\n",
              "        text-align: right;\n",
              "    }\n",
              "</style>\n",
              "<table border=\"1\" class=\"dataframe\">\n",
              "  <thead>\n",
              "    <tr style=\"text-align: right;\">\n",
              "      <th></th>\n",
              "      <th>Temperature</th>\n",
              "      <th>Humidity</th>\n",
              "      <th>Windy</th>\n",
              "      <th>Play_A</th>\n",
              "      <th>Play_B</th>\n",
              "      <th>Play_C</th>\n",
              "      <th>Play_D</th>\n",
              "      <th>Play_E</th>\n",
              "      <th>Play_F</th>\n",
              "      <th>Play_G</th>\n",
              "    </tr>\n",
              "  </thead>\n",
              "  <tbody>\n",
              "    <tr>\n",
              "      <th>count</th>\n",
              "      <td>1095.000000</td>\n",
              "      <td>1095.000000</td>\n",
              "      <td>1095.000000</td>\n",
              "      <td>1095.000000</td>\n",
              "      <td>1095.000000</td>\n",
              "      <td>1095.000000</td>\n",
              "      <td>1095.000000</td>\n",
              "      <td>1095.000000</td>\n",
              "      <td>1095.000000</td>\n",
              "      <td>1095.000000</td>\n",
              "    </tr>\n",
              "    <tr>\n",
              "      <th>mean</th>\n",
              "      <td>13.435525</td>\n",
              "      <td>61.525114</td>\n",
              "      <td>0.507763</td>\n",
              "      <td>0.209132</td>\n",
              "      <td>0.223744</td>\n",
              "      <td>0.233790</td>\n",
              "      <td>0.189954</td>\n",
              "      <td>0.257534</td>\n",
              "      <td>0.060274</td>\n",
              "      <td>0.103196</td>\n",
              "    </tr>\n",
              "    <tr>\n",
              "      <th>std</th>\n",
              "      <td>8.043321</td>\n",
              "      <td>14.435162</td>\n",
              "      <td>0.500168</td>\n",
              "      <td>0.406875</td>\n",
              "      <td>0.416943</td>\n",
              "      <td>0.423434</td>\n",
              "      <td>0.392444</td>\n",
              "      <td>0.437476</td>\n",
              "      <td>0.238102</td>\n",
              "      <td>0.304354</td>\n",
              "    </tr>\n",
              "    <tr>\n",
              "      <th>min</th>\n",
              "      <td>-2.000000</td>\n",
              "      <td>18.000000</td>\n",
              "      <td>0.000000</td>\n",
              "      <td>0.000000</td>\n",
              "      <td>0.000000</td>\n",
              "      <td>0.000000</td>\n",
              "      <td>0.000000</td>\n",
              "      <td>0.000000</td>\n",
              "      <td>0.000000</td>\n",
              "      <td>0.000000</td>\n",
              "    </tr>\n",
              "    <tr>\n",
              "      <th>25%</th>\n",
              "      <td>6.000000</td>\n",
              "      <td>52.000000</td>\n",
              "      <td>0.000000</td>\n",
              "      <td>0.000000</td>\n",
              "      <td>0.000000</td>\n",
              "      <td>0.000000</td>\n",
              "      <td>0.000000</td>\n",
              "      <td>0.000000</td>\n",
              "      <td>0.000000</td>\n",
              "      <td>0.000000</td>\n",
              "    </tr>\n",
              "    <tr>\n",
              "      <th>50%</th>\n",
              "      <td>13.800000</td>\n",
              "      <td>61.000000</td>\n",
              "      <td>1.000000</td>\n",
              "      <td>0.000000</td>\n",
              "      <td>0.000000</td>\n",
              "      <td>0.000000</td>\n",
              "      <td>0.000000</td>\n",
              "      <td>0.000000</td>\n",
              "      <td>0.000000</td>\n",
              "      <td>0.000000</td>\n",
              "    </tr>\n",
              "    <tr>\n",
              "      <th>75%</th>\n",
              "      <td>20.500000</td>\n",
              "      <td>72.000000</td>\n",
              "      <td>1.000000</td>\n",
              "      <td>0.000000</td>\n",
              "      <td>0.000000</td>\n",
              "      <td>0.000000</td>\n",
              "      <td>0.000000</td>\n",
              "      <td>1.000000</td>\n",
              "      <td>0.000000</td>\n",
              "      <td>0.000000</td>\n",
              "    </tr>\n",
              "    <tr>\n",
              "      <th>max</th>\n",
              "      <td>29.500000</td>\n",
              "      <td>99.000000</td>\n",
              "      <td>1.000000</td>\n",
              "      <td>1.000000</td>\n",
              "      <td>1.000000</td>\n",
              "      <td>1.000000</td>\n",
              "      <td>1.000000</td>\n",
              "      <td>1.000000</td>\n",
              "      <td>1.000000</td>\n",
              "      <td>1.000000</td>\n",
              "    </tr>\n",
              "  </tbody>\n",
              "</table>\n",
              "</div>\n",
              "    <div class=\"colab-df-buttons\">\n",
              "\n",
              "  <div class=\"colab-df-container\">\n",
              "    <button class=\"colab-df-convert\" onclick=\"convertToInteractive('df-8a7d9205-b59a-4d68-9cad-48ec900d7b88')\"\n",
              "            title=\"Convert this dataframe to an interactive table.\"\n",
              "            style=\"display:none;\">\n",
              "\n",
              "  <svg xmlns=\"http://www.w3.org/2000/svg\" height=\"24px\" viewBox=\"0 -960 960 960\">\n",
              "    <path d=\"M120-120v-720h720v720H120Zm60-500h600v-160H180v160Zm220 220h160v-160H400v160Zm0 220h160v-160H400v160ZM180-400h160v-160H180v160Zm440 0h160v-160H620v160ZM180-180h160v-160H180v160Zm440 0h160v-160H620v160Z\"/>\n",
              "  </svg>\n",
              "    </button>\n",
              "\n",
              "  <style>\n",
              "    .colab-df-container {\n",
              "      display:flex;\n",
              "      gap: 12px;\n",
              "    }\n",
              "\n",
              "    .colab-df-convert {\n",
              "      background-color: #E8F0FE;\n",
              "      border: none;\n",
              "      border-radius: 50%;\n",
              "      cursor: pointer;\n",
              "      display: none;\n",
              "      fill: #1967D2;\n",
              "      height: 32px;\n",
              "      padding: 0 0 0 0;\n",
              "      width: 32px;\n",
              "    }\n",
              "\n",
              "    .colab-df-convert:hover {\n",
              "      background-color: #E2EBFA;\n",
              "      box-shadow: 0px 1px 2px rgba(60, 64, 67, 0.3), 0px 1px 3px 1px rgba(60, 64, 67, 0.15);\n",
              "      fill: #174EA6;\n",
              "    }\n",
              "\n",
              "    .colab-df-buttons div {\n",
              "      margin-bottom: 4px;\n",
              "    }\n",
              "\n",
              "    [theme=dark] .colab-df-convert {\n",
              "      background-color: #3B4455;\n",
              "      fill: #D2E3FC;\n",
              "    }\n",
              "\n",
              "    [theme=dark] .colab-df-convert:hover {\n",
              "      background-color: #434B5C;\n",
              "      box-shadow: 0px 1px 3px 1px rgba(0, 0, 0, 0.15);\n",
              "      filter: drop-shadow(0px 1px 2px rgba(0, 0, 0, 0.3));\n",
              "      fill: #FFFFFF;\n",
              "    }\n",
              "  </style>\n",
              "\n",
              "    <script>\n",
              "      const buttonEl =\n",
              "        document.querySelector('#df-8a7d9205-b59a-4d68-9cad-48ec900d7b88 button.colab-df-convert');\n",
              "      buttonEl.style.display =\n",
              "        google.colab.kernel.accessAllowed ? 'block' : 'none';\n",
              "\n",
              "      async function convertToInteractive(key) {\n",
              "        const element = document.querySelector('#df-8a7d9205-b59a-4d68-9cad-48ec900d7b88');\n",
              "        const dataTable =\n",
              "          await google.colab.kernel.invokeFunction('convertToInteractive',\n",
              "                                                    [key], {});\n",
              "        if (!dataTable) return;\n",
              "\n",
              "        const docLinkHtml = 'Like what you see? Visit the ' +\n",
              "          '<a target=\"_blank\" href=https://colab.research.google.com/notebooks/data_table.ipynb>data table notebook</a>'\n",
              "          + ' to learn more about interactive tables.';\n",
              "        element.innerHTML = '';\n",
              "        dataTable['output_type'] = 'display_data';\n",
              "        await google.colab.output.renderOutput(dataTable, element);\n",
              "        const docLink = document.createElement('div');\n",
              "        docLink.innerHTML = docLinkHtml;\n",
              "        element.appendChild(docLink);\n",
              "      }\n",
              "    </script>\n",
              "  </div>\n",
              "\n",
              "\n",
              "<div id=\"df-3dd1354e-d174-4402-abcc-e52e9f332c00\">\n",
              "  <button class=\"colab-df-quickchart\" onclick=\"quickchart('df-3dd1354e-d174-4402-abcc-e52e9f332c00')\"\n",
              "            title=\"Suggest charts\"\n",
              "            style=\"display:none;\">\n",
              "\n",
              "<svg xmlns=\"http://www.w3.org/2000/svg\" height=\"24px\"viewBox=\"0 0 24 24\"\n",
              "     width=\"24px\">\n",
              "    <g>\n",
              "        <path d=\"M19 3H5c-1.1 0-2 .9-2 2v14c0 1.1.9 2 2 2h14c1.1 0 2-.9 2-2V5c0-1.1-.9-2-2-2zM9 17H7v-7h2v7zm4 0h-2V7h2v10zm4 0h-2v-4h2v4z\"/>\n",
              "    </g>\n",
              "</svg>\n",
              "  </button>\n",
              "\n",
              "<style>\n",
              "  .colab-df-quickchart {\n",
              "      --bg-color: #E8F0FE;\n",
              "      --fill-color: #1967D2;\n",
              "      --hover-bg-color: #E2EBFA;\n",
              "      --hover-fill-color: #174EA6;\n",
              "      --disabled-fill-color: #AAA;\n",
              "      --disabled-bg-color: #DDD;\n",
              "  }\n",
              "\n",
              "  [theme=dark] .colab-df-quickchart {\n",
              "      --bg-color: #3B4455;\n",
              "      --fill-color: #D2E3FC;\n",
              "      --hover-bg-color: #434B5C;\n",
              "      --hover-fill-color: #FFFFFF;\n",
              "      --disabled-bg-color: #3B4455;\n",
              "      --disabled-fill-color: #666;\n",
              "  }\n",
              "\n",
              "  .colab-df-quickchart {\n",
              "    background-color: var(--bg-color);\n",
              "    border: none;\n",
              "    border-radius: 50%;\n",
              "    cursor: pointer;\n",
              "    display: none;\n",
              "    fill: var(--fill-color);\n",
              "    height: 32px;\n",
              "    padding: 0;\n",
              "    width: 32px;\n",
              "  }\n",
              "\n",
              "  .colab-df-quickchart:hover {\n",
              "    background-color: var(--hover-bg-color);\n",
              "    box-shadow: 0 1px 2px rgba(60, 64, 67, 0.3), 0 1px 3px 1px rgba(60, 64, 67, 0.15);\n",
              "    fill: var(--button-hover-fill-color);\n",
              "  }\n",
              "\n",
              "  .colab-df-quickchart-complete:disabled,\n",
              "  .colab-df-quickchart-complete:disabled:hover {\n",
              "    background-color: var(--disabled-bg-color);\n",
              "    fill: var(--disabled-fill-color);\n",
              "    box-shadow: none;\n",
              "  }\n",
              "\n",
              "  .colab-df-spinner {\n",
              "    border: 2px solid var(--fill-color);\n",
              "    border-color: transparent;\n",
              "    border-bottom-color: var(--fill-color);\n",
              "    animation:\n",
              "      spin 1s steps(1) infinite;\n",
              "  }\n",
              "\n",
              "  @keyframes spin {\n",
              "    0% {\n",
              "      border-color: transparent;\n",
              "      border-bottom-color: var(--fill-color);\n",
              "      border-left-color: var(--fill-color);\n",
              "    }\n",
              "    20% {\n",
              "      border-color: transparent;\n",
              "      border-left-color: var(--fill-color);\n",
              "      border-top-color: var(--fill-color);\n",
              "    }\n",
              "    30% {\n",
              "      border-color: transparent;\n",
              "      border-left-color: var(--fill-color);\n",
              "      border-top-color: var(--fill-color);\n",
              "      border-right-color: var(--fill-color);\n",
              "    }\n",
              "    40% {\n",
              "      border-color: transparent;\n",
              "      border-right-color: var(--fill-color);\n",
              "      border-top-color: var(--fill-color);\n",
              "    }\n",
              "    60% {\n",
              "      border-color: transparent;\n",
              "      border-right-color: var(--fill-color);\n",
              "    }\n",
              "    80% {\n",
              "      border-color: transparent;\n",
              "      border-right-color: var(--fill-color);\n",
              "      border-bottom-color: var(--fill-color);\n",
              "    }\n",
              "    90% {\n",
              "      border-color: transparent;\n",
              "      border-bottom-color: var(--fill-color);\n",
              "    }\n",
              "  }\n",
              "</style>\n",
              "\n",
              "  <script>\n",
              "    async function quickchart(key) {\n",
              "      const quickchartButtonEl =\n",
              "        document.querySelector('#' + key + ' button');\n",
              "      quickchartButtonEl.disabled = true;  // To prevent multiple clicks.\n",
              "      quickchartButtonEl.classList.add('colab-df-spinner');\n",
              "      try {\n",
              "        const charts = await google.colab.kernel.invokeFunction(\n",
              "            'suggestCharts', [key], {});\n",
              "      } catch (error) {\n",
              "        console.error('Error during call to suggestCharts:', error);\n",
              "      }\n",
              "      quickchartButtonEl.classList.remove('colab-df-spinner');\n",
              "      quickchartButtonEl.classList.add('colab-df-quickchart-complete');\n",
              "    }\n",
              "    (() => {\n",
              "      let quickchartButtonEl =\n",
              "        document.querySelector('#df-3dd1354e-d174-4402-abcc-e52e9f332c00 button');\n",
              "      quickchartButtonEl.style.display =\n",
              "        google.colab.kernel.accessAllowed ? 'block' : 'none';\n",
              "    })();\n",
              "  </script>\n",
              "</div>\n",
              "    </div>\n",
              "  </div>\n"
            ]
          },
          "metadata": {},
          "execution_count": 6
        }
      ]
    },
    {
      "cell_type": "code",
      "source": [
        "data['humid'] = data.apply(lambda x: 1 if x['Humidity']>60 else 0,  axis=1)\n",
        "data['temp'] = data.apply(lambda x: 1 if x['Temperature']>20 else 0,  axis=1)\n",
        "data = data.drop(columns=['Temperature', 'Humidity'])\n",
        "print(data.head())\n",
        "print(data.describe())\n",
        "print(data.info())"
      ],
      "metadata": {
        "colab": {
          "base_uri": "https://localhost:8080/"
        },
        "id": "56-LjUL3sIPZ",
        "outputId": "568bd8c0-ee06-4900-88f1-b328b5c47fda"
      },
      "execution_count": null,
      "outputs": [
        {
          "output_type": "stream",
          "name": "stdout",
          "text": [
            "   Windy   Outlook  Play_A  Play_B  Play_C  Play_D  Play_E  Play_F  Play_G  \\\n",
            "0      1     sunny       1       0       0       1       1       0       0   \n",
            "1      0     sunny       1       0       1       0       0       0       0   \n",
            "2      0  overcast       0       0       1       0       0       0       0   \n",
            "3      0  overcast       0       0       0       0       0       0       0   \n",
            "4      1     sunny       0       0       0       0       1       0       0   \n",
            "\n",
            "   humid  temp  \n",
            "0      0     0  \n",
            "1      0     0  \n",
            "2      0     0  \n",
            "3      0     0  \n",
            "4      0     0  \n",
            "             Windy       Play_A       Play_B       Play_C       Play_D  \\\n",
            "count  1095.000000  1095.000000  1095.000000  1095.000000  1095.000000   \n",
            "mean      0.507763     0.209132     0.223744     0.233790     0.189954   \n",
            "std       0.500168     0.406875     0.416943     0.423434     0.392444   \n",
            "min       0.000000     0.000000     0.000000     0.000000     0.000000   \n",
            "25%       0.000000     0.000000     0.000000     0.000000     0.000000   \n",
            "50%       1.000000     0.000000     0.000000     0.000000     0.000000   \n",
            "75%       1.000000     0.000000     0.000000     0.000000     0.000000   \n",
            "max       1.000000     1.000000     1.000000     1.000000     1.000000   \n",
            "\n",
            "            Play_E       Play_F       Play_G        humid         temp  \n",
            "count  1095.000000  1095.000000  1095.000000  1095.000000  1095.000000  \n",
            "mean      0.257534     0.060274     0.103196     0.500457     0.272146  \n",
            "std       0.437476     0.238102     0.304354     0.500228     0.445268  \n",
            "min       0.000000     0.000000     0.000000     0.000000     0.000000  \n",
            "25%       0.000000     0.000000     0.000000     0.000000     0.000000  \n",
            "50%       0.000000     0.000000     0.000000     1.000000     0.000000  \n",
            "75%       1.000000     0.000000     0.000000     1.000000     1.000000  \n",
            "max       1.000000     1.000000     1.000000     1.000000     1.000000  \n",
            "<class 'pandas.core.frame.DataFrame'>\n",
            "RangeIndex: 1095 entries, 0 to 1094\n",
            "Data columns (total 11 columns):\n",
            " #   Column   Non-Null Count  Dtype \n",
            "---  ------   --------------  ----- \n",
            " 0   Windy    1095 non-null   int64 \n",
            " 1   Outlook  1095 non-null   object\n",
            " 2   Play_A   1095 non-null   int64 \n",
            " 3   Play_B   1095 non-null   int64 \n",
            " 4   Play_C   1095 non-null   int64 \n",
            " 5   Play_D   1095 non-null   int64 \n",
            " 6   Play_E   1095 non-null   int64 \n",
            " 7   Play_F   1095 non-null   int64 \n",
            " 8   Play_G   1095 non-null   int64 \n",
            " 9   humid    1095 non-null   int64 \n",
            " 10  temp     1095 non-null   int64 \n",
            "dtypes: int64(10), object(1)\n",
            "memory usage: 94.2+ KB\n",
            "None\n"
          ]
        }
      ]
    },
    {
      "cell_type": "code",
      "source": [
        "data[\"Play\"]=data.Play_A | data.Play_B | data.Play_C | data.Play_D | data.Play_E | data.Play_F | data.Play_G\n",
        "data = data.drop(columns=['Play_A','Play_B','Play_C','Play_D','Play_E','Play_F','Play_G'])\n",
        "print(data.head())\n",
        "print(data.describe())\n",
        "print(data.info())"
      ],
      "metadata": {
        "colab": {
          "base_uri": "https://localhost:8080/"
        },
        "id": "yJB4dZbSsI1W",
        "outputId": "e23cafb4-4983-4d99-c651-06f8c43704ba"
      },
      "execution_count": null,
      "outputs": [
        {
          "output_type": "stream",
          "name": "stdout",
          "text": [
            "   Windy   Outlook  humid  temp  Play\n",
            "0      1     sunny      0     0     1\n",
            "1      0     sunny      0     0     1\n",
            "2      0  overcast      0     0     1\n",
            "3      0  overcast      0     0     0\n",
            "4      1     sunny      0     0     1\n",
            "             Windy        humid         temp         Play\n",
            "count  1095.000000  1095.000000  1095.000000  1095.000000\n",
            "mean      0.507763     0.500457     0.272146     0.691324\n",
            "std       0.500168     0.500228     0.445268     0.462158\n",
            "min       0.000000     0.000000     0.000000     0.000000\n",
            "25%       0.000000     0.000000     0.000000     0.000000\n",
            "50%       1.000000     1.000000     0.000000     1.000000\n",
            "75%       1.000000     1.000000     1.000000     1.000000\n",
            "max       1.000000     1.000000     1.000000     1.000000\n",
            "<class 'pandas.core.frame.DataFrame'>\n",
            "RangeIndex: 1095 entries, 0 to 1094\n",
            "Data columns (total 5 columns):\n",
            " #   Column   Non-Null Count  Dtype \n",
            "---  ------   --------------  ----- \n",
            " 0   Windy    1095 non-null   int64 \n",
            " 1   Outlook  1095 non-null   object\n",
            " 2   humid    1095 non-null   int64 \n",
            " 3   temp     1095 non-null   int64 \n",
            " 4   Play     1095 non-null   int64 \n",
            "dtypes: int64(4), object(1)\n",
            "memory usage: 42.9+ KB\n",
            "None\n"
          ]
        }
      ]
    },
    {
      "cell_type": "code",
      "source": [
        "rows_to_remove = data[data[\"Play\"] == 1].sample(frac=0.5).index\n",
        "data = data.drop(rows_to_remove)\n",
        "data['Play'].value_counts()"
      ],
      "metadata": {
        "colab": {
          "base_uri": "https://localhost:8080/"
        },
        "id": "Rya4EqR_yS3s",
        "outputId": "71b1f3c6-2cd0-44fb-b4fe-9ea68730850c"
      },
      "execution_count": null,
      "outputs": [
        {
          "output_type": "execute_result",
          "data": {
            "text/plain": [
              "1    379\n",
              "0    338\n",
              "Name: Play, dtype: int64"
            ]
          },
          "metadata": {},
          "execution_count": 9
        }
      ]
    },
    {
      "cell_type": "code",
      "source": [
        "data.to_csv(\"/content/drive/MyDrive/ML_Lab/golf_dataset.csv\", index=False)"
      ],
      "metadata": {
        "id": "K26qRuFER6SL"
      },
      "execution_count": null,
      "outputs": []
    }
  ]
}